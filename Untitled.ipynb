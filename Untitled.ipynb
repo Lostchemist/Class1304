{
 "cells": [
  {
   "cell_type": "code",
   "execution_count": null,
   "id": "6509ee03-319c-4cf0-8f75-9682ef0690da",
   "metadata": {},
   "outputs": [],
   "source": [
      "hello = hello"
   ]
  },
  {
   "cell_type": "code",
   "execution_count": null,
   "id": "4e409d35-3f19-4e6f-978f-0490997f42ec",
   "metadata": {},
   "outputs": [],
   "source": [
    "bye = bye"
   ]
  }
 ],
 "metadata": {
  "kernelspec": {
   "display_name": "Python 3 (ipykernel)",
   "language": "python",
   "name": "python3"
  },
  "language_info": {
   "codemirror_mode": {
    "name": "ipython",
    "version": 3
   },
   "file_extension": ".py",
   "mimetype": "text/x-python",
   "name": "python",
   "nbconvert_exporter": "python",
   "pygments_lexer": "ipython3",
   "version": "3.11.7"
  }
 },
 "nbformat": 4,
 "nbformat_minor": 5
}
